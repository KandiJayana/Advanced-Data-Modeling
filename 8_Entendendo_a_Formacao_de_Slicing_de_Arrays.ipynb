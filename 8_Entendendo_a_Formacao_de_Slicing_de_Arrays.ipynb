{
  "cells": [
    {
      "cell_type": "markdown",
      "metadata": {
        "id": "view-in-github",
        "colab_type": "text"
      },
      "source": [
        "<a href=\"https://colab.research.google.com/github/KandiJayana/Advanced-Data-Modeling/blob/main/8_Entendendo_a_Formacao_de_Slicing_de_Arrays.ipynb\" target=\"_parent\"><img src=\"https://colab.research.google.com/assets/colab-badge.svg\" alt=\"Open In Colab\"/></a>"
      ]
    },
    {
      "cell_type": "markdown",
      "id": "84e9fc68",
      "metadata": {
        "id": "84e9fc68"
      },
      "source": [
        "### Manipulacao de Dados com Numpy"
      ]
    },
    {
      "cell_type": "markdown",
      "id": "19cb46eb",
      "metadata": {
        "id": "19cb46eb"
      },
      "source": [
        "#### Entendendo a Formacao de Slicing de arrays"
      ]
    },
    {
      "cell_type": "code",
      "execution_count": null,
      "id": "1a38c1c5",
      "metadata": {
        "id": "1a38c1c5"
      },
      "outputs": [],
      "source": [
        "# Vamos começar do inicio que basicamente e voce importar o pacote numpy\n",
        "# O Anaconda Python ja possui o NumPy instalado por isso nao precisa instalar\n",
        "# Caso voce não consiga importa-lo tente usar o comando !pip install numpy e depois faça a importacao\n",
        "import numpy as np\n",
        "\n",
        "# Veja que importamos o numpy e demos o \"apelido\" de np que sempre sera utilizado quando formos chamar as funcoes do numpy"
      ]
    },
    {
      "cell_type": "code",
      "execution_count": null,
      "id": "88a9e66f",
      "metadata": {
        "colab": {
          "base_uri": "https://localhost:8080/"
        },
        "id": "88a9e66f",
        "outputId": "849193d0-ab49-4307-e212-2399c8bdd619"
      },
      "outputs": [
        {
          "output_type": "stream",
          "name": "stdout",
          "text": [
            "1.26.4\n"
          ]
        }
      ],
      "source": [
        "# Vamos verificar a versao utilizada neste curso do numpy, e importante que voce utilize a mesma versao\n",
        "print(np.__version__)"
      ]
    },
    {
      "cell_type": "markdown",
      "id": "24cb1bef",
      "metadata": {
        "id": "24cb1bef"
      },
      "source": [
        "##### O array e dividido em duas partes, registros(\"linhas\") e dimensoes(\"colunas\"), na hora de fatiarmos os arrays nos devemos seguir esta ordem de indexacao, este conceito vale para o numpy, pandas e para o proprio python, vamos ver alguns exemplos."
      ]
    },
    {
      "source": [
        "from IPython.display import Image\n",
        "from google.colab import drive\n",
        "\n",
        "# Mount your Google Drive\n",
        "drive.mount('/content/drive')\n",
        "\n",
        "# Provide the full path to the image in your Drive\n",
        "image_path = '/content/drive/My Drive/Colab Notebooks/Slicing_Explicacao.png'\n",
        "\n",
        "Image(filename=image_path)"
      ],
      "cell_type": "code",
      "metadata": {
        "id": "j8HjSMbAa7fY",
        "outputId": "1c5283e0-60d7-45b0-ac31-0401418d5acf",
        "colab": {
          "base_uri": "https://localhost:8080/",
          "height": 505
        }
      },
      "id": "j8HjSMbAa7fY",
      "execution_count": 31,
      "outputs": [
        {
          "output_type": "stream",
          "name": "stdout",
          "text": [
            "Mounted at /content/drive\n"
          ]
        },
        {
          "output_type": "execute_result",
          "data": {
            "image/png": "[encoded data removed]",
            "text/plain": [
              "<IPython.core.display.Image object>"
            ]
          },
          "metadata": {},
          "execution_count": 31
        }
      ]
    },
    {
      "cell_type": "code",
      "execution_count": null,
      "id": "c0e80f3b",
      "metadata": {
        "colab": {
          "base_uri": "https://localhost:8080/"
        },
        "id": "c0e80f3b",
        "outputId": "dc29c2f5-7a2e-41d9-ed12-ab5821bc3242"
      },
      "outputs": [
        {
          "output_type": "execute_result",
          "data": {
            "text/plain": [
              "array([[1, 2, 3],\n",
              "       [4, 5, 6],\n",
              "       [7, 8, 9]])"
            ]
          },
          "metadata": {},
          "execution_count": 4
        }
      ],
      "source": [
        "# Vamos criar um array igual a matriz acima\n",
        "array1 = np.array([[1,2,3], [4,5,6], [7,8,9]]); array1"
      ]
    },
    {
      "cell_type": "code",
      "execution_count": null,
      "id": "05dbba0e",
      "metadata": {
        "colab": {
          "base_uri": "https://localhost:8080/"
        },
        "id": "05dbba0e",
        "outputId": "3d2cce9f-4fae-4825-9d31-92481e130666"
      },
      "outputs": [
        {
          "output_type": "execute_result",
          "data": {
            "text/plain": [
              "array([[2, 3],\n",
              "       [5, 6]])"
            ]
          },
          "metadata": {},
          "execution_count": 5
        }
      ],
      "source": [
        "# Veja queremos todas as linhas(em branco:) ate o indice 2(:2)\n",
        "# Porem o indice 2 nao entra (exclusivo)\n",
        "# A coluna apartir do indice 1 (1:) ate o fim (:em branco)\n",
        "# Lembrando mais uma vez que comeca a conta do 0\n",
        "array1[:2, 1:]"
      ]
    },
    {
      "cell_type": "code",
      "execution_count": null,
      "id": "6d1bc124",
      "metadata": {
        "colab": {
          "base_uri": "https://localhost:8080/"
        },
        "id": "6d1bc124",
        "outputId": "0702a634-a8c5-4c76-820b-8ed48f5d0031"
      },
      "outputs": [
        {
          "output_type": "execute_result",
          "data": {
            "text/plain": [
              "(2, 2)"
            ]
          },
          "metadata": {},
          "execution_count": 6
        }
      ],
      "source": [
        "# Veja o formato 2 por 2\n",
        "array1[:2, 1:].shape"
      ]
    },
    {
      "cell_type": "code",
      "execution_count": null,
      "id": "035a3a1d",
      "metadata": {
        "colab": {
          "base_uri": "https://localhost:8080/"
        },
        "id": "035a3a1d",
        "outputId": "f74ba3b9-c229-4204-c7a4-dbc162db01d5"
      },
      "outputs": [
        {
          "output_type": "execute_result",
          "data": {
            "text/plain": [
              "array([7, 8, 9])"
            ]
          },
          "metadata": {},
          "execution_count": 7
        }
      ],
      "source": [
        "# A segunda figura tem 3 formas de representar a mesma coisa\n",
        "# Eu sei isso deixa tudo mais complicado, mas e isso mesmo a vida de programacao\n",
        "# Se vc coloca apenas um numero o numpy entende que vc quer filtrar a linha\n",
        "array1[2]"
      ]
    },
    {
      "cell_type": "code",
      "execution_count": null,
      "id": "835e242b",
      "metadata": {
        "colab": {
          "base_uri": "https://localhost:8080/"
        },
        "id": "835e242b",
        "outputId": "0707bf66-5416-4f1b-c349-5a6db8969f0f"
      },
      "outputs": [
        {
          "output_type": "execute_result",
          "data": {
            "text/plain": [
              "(3,)"
            ]
          },
          "metadata": {},
          "execution_count": 8
        }
      ],
      "source": [
        "array1[2].shape"
      ]
    },
    {
      "cell_type": "code",
      "execution_count": null,
      "id": "2553406a",
      "metadata": {
        "colab": {
          "base_uri": "https://localhost:8080/"
        },
        "id": "2553406a",
        "outputId": "867a8cff-9718-4a49-be78-fdcd1ea1d0f0"
      },
      "outputs": [
        {
          "output_type": "execute_result",
          "data": {
            "text/plain": [
              "array([7, 8, 9])"
            ]
          },
          "metadata": {},
          "execution_count": 9
        }
      ],
      "source": [
        "# Veja que os : depois da virgula esta vazio\n",
        "# Isso indica que queremos todas as colunas\n",
        "array1[2,:]"
      ]
    },
    {
      "cell_type": "code",
      "execution_count": null,
      "id": "e6ad7499",
      "metadata": {
        "scrolled": true,
        "colab": {
          "base_uri": "https://localhost:8080/"
        },
        "id": "e6ad7499",
        "outputId": "b08c3a4d-ec7f-4a18-b5e3-b5bafc5fcb3a"
      },
      "outputs": [
        {
          "output_type": "execute_result",
          "data": {
            "text/plain": [
              "(3,)"
            ]
          },
          "metadata": {},
          "execution_count": 10
        }
      ],
      "source": [
        "array1[2,:].shape"
      ]
    },
    {
      "cell_type": "code",
      "execution_count": null,
      "id": "9df98fc5",
      "metadata": {
        "colab": {
          "base_uri": "https://localhost:8080/"
        },
        "id": "9df98fc5",
        "outputId": "eb10ed6f-bcfd-4ae7-b7ae-5e8e955ee59a"
      },
      "outputs": [
        {
          "output_type": "execute_result",
          "data": {
            "text/plain": [
              "array([[7, 8, 9]])"
            ]
          },
          "metadata": {},
          "execution_count": 11
        }
      ],
      "source": [
        "array1[2:,:]"
      ]
    },
    {
      "cell_type": "code",
      "execution_count": null,
      "id": "a16c872a",
      "metadata": {
        "colab": {
          "base_uri": "https://localhost:8080/"
        },
        "id": "a16c872a",
        "outputId": "8cee7d88-dd3d-45fd-a8de-5aa0cf7d3f2b"
      },
      "outputs": [
        {
          "output_type": "execute_result",
          "data": {
            "text/plain": [
              "(1, 3)"
            ]
          },
          "metadata": {},
          "execution_count": 12
        }
      ],
      "source": [
        "# Nas duas formas de fazer anterior o numpy retornou apenas um vetor de 3 registros\n",
        "# Mas nesta ultima opcao ele retorna uma matriz de apenas 1 linha com 3 colunas\n",
        "# Existe uma leve diferente\n",
        "array1[2:,:].shape"
      ]
    },
    {
      "cell_type": "code",
      "execution_count": null,
      "id": "d99dba1e",
      "metadata": {
        "colab": {
          "base_uri": "https://localhost:8080/"
        },
        "id": "d99dba1e",
        "outputId": "84632c74-3708-40cb-8d11-8634ee909445"
      },
      "outputs": [
        {
          "output_type": "execute_result",
          "data": {
            "text/plain": [
              "array([[1, 2],\n",
              "       [4, 5],\n",
              "       [7, 8]])"
            ]
          },
          "metadata": {},
          "execution_count": 13
        }
      ],
      "source": [
        "array1[:,:2]"
      ]
    },
    {
      "cell_type": "code",
      "execution_count": null,
      "id": "9c124b2c",
      "metadata": {
        "colab": {
          "base_uri": "https://localhost:8080/"
        },
        "id": "9c124b2c",
        "outputId": "cdde16c5-26eb-4776-dc05-cf35e433d757"
      },
      "outputs": [
        {
          "output_type": "execute_result",
          "data": {
            "text/plain": [
              "(3, 2)"
            ]
          },
          "metadata": {},
          "execution_count": 15
        }
      ],
      "source": [
        "array1[:,:2].shape"
      ]
    },
    {
      "cell_type": "code",
      "execution_count": null,
      "id": "304c4212",
      "metadata": {
        "colab": {
          "base_uri": "https://localhost:8080/"
        },
        "id": "304c4212",
        "outputId": "b98f4137-0dd9-4bea-ac79-612fcc7217c5"
      },
      "outputs": [
        {
          "output_type": "execute_result",
          "data": {
            "text/plain": [
              "array([[1, 2, 3],\n",
              "       [4, 5, 6],\n",
              "       [7, 8, 9]])"
            ]
          },
          "metadata": {},
          "execution_count": 16
        }
      ],
      "source": [
        "array1"
      ]
    },
    {
      "cell_type": "code",
      "source": [
        "import sys\n",
        "import os\n",
        "\n",
        "\n"
      ],
      "metadata": {
        "id": "VXh4jZyYcD0R"
      },
      "id": "VXh4jZyYcD0R",
      "execution_count": 37,
      "outputs": []
    },
    {
      "cell_type": "markdown",
      "id": "9047cbf7",
      "metadata": {
        "id": "9047cbf7"
      },
      "source": [
        "# Exercícios"
      ]
    },
    {
      "cell_type": "markdown",
      "id": "e4027d4f",
      "metadata": {
        "id": "e4027d4f"
      },
      "source": [
        "### Exercício 1: Crie um array de números inteiros de 1 a 100. Use a indexação booleana para selecionar apenas os números pares.\n",
        "\n",
        "<!--\n",
        "arr = np.arange(1, 101)\n",
        "pares = arr[arr % 2 == 0]\n",
        "print(\"Números pares:\", pares)\n",
        "-->"
      ]
    },
    {
      "cell_type": "code",
      "execution_count": 42,
      "id": "37c4514f",
      "metadata": {
        "id": "37c4514f",
        "colab": {
          "base_uri": "https://localhost:8080/"
        },
        "outputId": "699a721d-5bf6-4268-8eaa-49a6348425e7"
      },
      "outputs": [
        {
          "output_type": "stream",
          "name": "stdout",
          "text": [
            "Números pares: [  2   4   6   8  10  12  14  16  18  20  22  24  26  28  30  32  34  36\n",
            "  38  40  42  44  46  48  50  52  54  56  58  60  62  64  66  68  70  72\n",
            "  74  76  78  80  82  84  86  88  90  92  94  96  98 100]\n"
          ]
        }
      ],
      "source": [
        "# R:\n",
        "\n",
        "arr = np.arange(1, 101)\n",
        "pares = arr[arr % 2 == 0]\n",
        "print(\"Números pares:\", pares)"
      ]
    },
    {
      "cell_type": "markdown",
      "id": "5b986b87",
      "metadata": {
        "id": "5b986b87"
      },
      "source": [
        "### Exercício 2: Crie um array Numpy 1D contendo os números de 10 a 20. Extraia uma fatia do array que contenha os elementos do índice 3 ao 7 (inclusive).\n",
        "\n",
        "<!--\n",
        "import numpy as np\n",
        "arr = np.arange(10, 21)\n",
        "fatia = arr[3:8]\n",
        "print(\"Array original:\", arr)\n",
        "print(\"Fatia do índice 3 ao 7:\", fatia)\n",
        "-->"
      ]
    },
    {
      "cell_type": "code",
      "execution_count": 41,
      "id": "ff338484",
      "metadata": {
        "id": "ff338484",
        "colab": {
          "base_uri": "https://localhost:8080/"
        },
        "outputId": "83de2883-e9cb-4967-c8c7-38694e9af9cb"
      },
      "outputs": [
        {
          "output_type": "stream",
          "name": "stdout",
          "text": [
            "Array original: [10 11 12 13 14 15 16 17 18 19 20]\n",
            "Fatia do índice 3 ao 7: [13 14 15 16 17]\n"
          ]
        }
      ],
      "source": [
        "# R:\n",
        "\n",
        "import numpy as np\n",
        "arr = np.arange(10, 21)\n",
        "fatia = arr[3:8]\n",
        "print(\"Array original:\", arr)\n",
        "print(\"Fatia do índice 3 ao 7:\", fatia)"
      ]
    },
    {
      "cell_type": "code",
      "source": [
        "resto = np.concatenate((arr[:3], arr[8:]))\n",
        "\n",
        "resto"
      ],
      "metadata": {
        "id": "3Q7DSn_hdeYL",
        "outputId": "e2a030b4-93df-498a-ae70-460b85f6286b",
        "colab": {
          "base_uri": "https://localhost:8080/"
        }
      },
      "id": "3Q7DSn_hdeYL",
      "execution_count": 46,
      "outputs": [
        {
          "output_type": "execute_result",
          "data": {
            "text/plain": [
              "array([  1,   2,   3,   9,  10,  11,  12,  13,  14,  15,  16,  17,  18,\n",
              "        19,  20,  21,  22,  23,  24,  25,  26,  27,  28,  29,  30,  31,\n",
              "        32,  33,  34,  35,  36,  37,  38,  39,  40,  41,  42,  43,  44,\n",
              "        45,  46,  47,  48,  49,  50,  51,  52,  53,  54,  55,  56,  57,\n",
              "        58,  59,  60,  61,  62,  63,  64,  65,  66,  67,  68,  69,  70,\n",
              "        71,  72,  73,  74,  75,  76,  77,  78,  79,  80,  81,  82,  83,\n",
              "        84,  85,  86,  87,  88,  89,  90,  91,  92,  93,  94,  95,  96,\n",
              "        97,  98,  99, 100])"
            ]
          },
          "metadata": {},
          "execution_count": 46
        }
      ]
    }
  ],
  "metadata": {
    "kernelspec": {
      "display_name": "Python 3",
      "language": "python",
      "name": "python3"
    },
    "language_info": {
      "codemirror_mode": {
        "name": "ipython",
        "version": 3
      },
      "file_extension": ".py",
      "mimetype": "text/x-python",
      "name": "python",
      "nbconvert_exporter": "python",
      "pygments_lexer": "ipython3",
      "version": "3.11.4"
    },
    "colab": {
      "provenance": [],
      "include_colab_link": true
    }
  },
  "nbformat": 4,
  "nbformat_minor": 5
}