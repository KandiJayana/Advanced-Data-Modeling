{
  "cells": [
    {
      "cell_type": "markdown",
      "metadata": {
        "id": "view-in-github",
        "colab_type": "text"
      },
      "source": [
        "<a href=\"https://colab.research.google.com/github/KandiJayana/Advanced-Data-Modeling/blob/main/4_Estruturas_de_Dados_NumPy.ipynb\" target=\"_parent\"><img src=\"https://colab.research.google.com/assets/colab-badge.svg\" alt=\"Open In Colab\"/></a>"
      ]
    },
    {
      "cell_type": "markdown",
      "id": "7ed0b347",
      "metadata": {
        "id": "7ed0b347"
      },
      "source": [
        "#### Estruturas de Dados NumPy"
      ]
    },
    {
      "cell_type": "code",
      "execution_count": null,
      "id": "30090d14",
      "metadata": {
        "colab": {
          "base_uri": "https://localhost:8080/"
        },
        "id": "30090d14",
        "outputId": "a119e6d3-7937-47f6-8052-4ad3665990bd"
      },
      "outputs": [
        {
          "output_type": "stream",
          "name": "stdout",
          "text": [
            "Python 3.10.12\n"
          ]
        }
      ],
      "source": [
        "# Primeiro veja a versao do Python que estamos utilizando\n",
        "# O sinal ! antes do comando indica que vamos executar um comando no SO, neste caso vamos ver a versao do Python instalada\n",
        "!python -V"
      ]
    },
    {
      "cell_type": "code",
      "execution_count": null,
      "id": "f1acf6c4",
      "metadata": {
        "id": "f1acf6c4"
      },
      "outputs": [],
      "source": [
        "# Caso voce queira atualizar algum pacote basta executar o comando abaixo\n",
        "# !pip install -U nome_do_pacote\n",
        "\n",
        "# Caso você queira instalar uma versão especifica de algum pacote, então execute o comando abaixo\n",
        "# !pip install nomepacote==versao\n",
        "\n",
        "\n",
        "# Sempre apos instalar ou atualizar um pacote, reinicie o Jupyter notebook para garantir o devido funcionamento"
      ]
    },
    {
      "cell_type": "markdown",
      "id": "a62ce8cb",
      "metadata": {
        "id": "a62ce8cb"
      },
      "source": [
        "##### Uma das principais funcionalidades com NumPy e voce carregar dados atraves de uma estrutura NumPy que e a forma que os dados sao colocados na memoria.\n",
        "\n",
        "##### Os dados podem se originar de um arquivo CSV, um banco de dados, entre outros locais, precisamos trazer estes dados para o Python para voce trabalhar e o NumPy oferece estrutura de dados para esta tarefa."
      ]
    },
    {
      "cell_type": "code",
      "execution_count": null,
      "id": "14ebafc2",
      "metadata": {
        "id": "14ebafc2"
      },
      "outputs": [],
      "source": [
        "# O Anaconda Python ja possui o NumPy instalado por isso nao precisa instalar\n",
        "# Caso voce não consiga importa-lo tente usar o comando !pip install numpy e depois faça a importacao\n",
        "import numpy as np\n",
        "\n",
        "# Veja que importamos o numpy e demos o \"apelido\" de np que sempre sera utilizado quando formos chamar as funcoes do numpy"
      ]
    },
    {
      "cell_type": "code",
      "execution_count": null,
      "id": "f8e60752",
      "metadata": {
        "colab": {
          "base_uri": "https://localhost:8080/"
        },
        "id": "f8e60752",
        "outputId": "ad01588f-be54-4da7-a963-edbd2020d96d"
      },
      "outputs": [
        {
          "output_type": "stream",
          "name": "stdout",
          "text": [
            "1.26.4\n"
          ]
        }
      ],
      "source": [
        "# Vamos verificar a versao utilizada neste curso do numpy, e importante que voce utilize a mesma versao\n",
        "print(np.__version__)"
      ]
    },
    {
      "cell_type": "markdown",
      "id": "b85d29fd",
      "metadata": {
        "id": "b85d29fd"
      },
      "source": [
        "### Estrutura NumPy -  Array"
      ]
    },
    {
      "cell_type": "code",
      "execution_count": null,
      "id": "83ff1ef8",
      "metadata": {
        "colab": {
          "base_uri": "https://localhost:8080/"
        },
        "id": "83ff1ef8",
        "outputId": "e5c56f6e-9204-40c0-8977-245c3ebc971d"
      },
      "outputs": [
        {
          "output_type": "stream",
          "name": "stdout",
          "text": [
            "[1 2 3 4]\n"
          ]
        }
      ],
      "source": [
        "# criando nosso primeiro Array Numpy e imprimir ele para vermos\n",
        "# Porem caso queira vc pode utilizar o ; para executar mais de um comando seguido ou escrever o codigo embaixo sem o ;\n",
        "array1 = np.array([1,2,3,4])\n",
        "print(array1)\n",
        "\n",
        "# Essa Funcao sera muito utilizada, nos chamamos o pacote numpy passamos que queremos um array\n",
        "# Dentro do parenteses nos passamos uma lista [] com os numeros separados por virgula e entao imprimimos com print na tela"
      ]
    },
    {
      "cell_type": "code",
      "execution_count": null,
      "id": "c5f41b92",
      "metadata": {
        "colab": {
          "base_uri": "https://localhost:8080/"
        },
        "id": "c5f41b92",
        "outputId": "c35a73b3-b5f6-4f95-f8c8-654bbbc623a0"
      },
      "outputs": [
        {
          "output_type": "execute_result",
          "data": {
            "text/plain": [
              "(4,)"
            ]
          },
          "metadata": {},
          "execution_count": 6
        }
      ],
      "source": [
        "# verificando o formato do array (chamamos normalmente de shape)\n",
        "# o shape e uma descricao do objeto, neste caso o array que criamos\n",
        "array1.shape\n",
        "\n",
        "# é um vetor de 4 elementos e apenas 1 dimensao, o vazio depois da virgula mostra que temos uma unica\n",
        "# dimensao ou seja uma unica \"coluna e 4 linhas\""
      ]
    },
    {
      "cell_type": "code",
      "execution_count": null,
      "id": "0bf7f379",
      "metadata": {
        "colab": {
          "base_uri": "https://localhost:8080/"
        },
        "id": "0bf7f379",
        "outputId": "d4da5f40-02e5-42ac-a292-f0cd898b6d27"
      },
      "outputs": [
        {
          "output_type": "execute_result",
          "data": {
            "text/plain": [
              "1"
            ]
          },
          "metadata": {},
          "execution_count": 7
        }
      ],
      "source": [
        "# Vamos confirmar agora verificando o numero de dimensoes deste array\n",
        "# Veja que tem apenas 1 dimensao\n",
        "array1.ndim"
      ]
    },
    {
      "cell_type": "code",
      "execution_count": null,
      "id": "b058a354",
      "metadata": {
        "colab": {
          "base_uri": "https://localhost:8080/"
        },
        "id": "b058a354",
        "outputId": "677cd59a-0c69-4d8a-8dd8-b76b2845d565"
      },
      "outputs": [
        {
          "output_type": "stream",
          "name": "stdout",
          "text": [
            "[[1 2 3]\n",
            " [4 5 6]]\n"
          ]
        }
      ],
      "source": [
        "# criando um array de duas dimensoes\n",
        "array2 = np.array([[1,2,3],[4,5,6]]); print(array2)\n",
        "\n",
        "# chamamos isto de lista de listas em python e a forma de criar arrays com mais de 1 dimensao\n",
        "# Este array sao 2 dimensoes com 3 registros cada dimensao"
      ]
    },
    {
      "cell_type": "code",
      "execution_count": null,
      "id": "2fce2ca3",
      "metadata": {
        "colab": {
          "base_uri": "https://localhost:8080/"
        },
        "id": "2fce2ca3",
        "outputId": "8cb7f188-3a27-43fd-d909-34ad1df55ba8"
      },
      "outputs": [
        {
          "output_type": "execute_result",
          "data": {
            "text/plain": [
              "(2, 3)"
            ]
          },
          "metadata": {},
          "execution_count": 9
        }
      ],
      "source": [
        "# Shape\n",
        "array2.shape\n",
        "\n",
        "# temos 2 dimensoes com 3 registros cada dimensão."
      ]
    },
    {
      "cell_type": "code",
      "execution_count": null,
      "id": "a5e4a383",
      "metadata": {
        "colab": {
          "base_uri": "https://localhost:8080/"
        },
        "id": "a5e4a383",
        "outputId": "88663932-662d-423c-b0cf-ff326e98516e"
      },
      "outputs": [
        {
          "output_type": "execute_result",
          "data": {
            "text/plain": [
              "5"
            ]
          },
          "metadata": {},
          "execution_count": 30
        }
      ],
      "source": [
        "# array2[0,2]\n",
        "\n",
        "# Retornar o valor 5\n",
        "\n",
        "array2[1, 1]\n"
      ]
    },
    {
      "cell_type": "code",
      "execution_count": null,
      "id": "11c56871",
      "metadata": {
        "colab": {
          "base_uri": "https://localhost:8080/"
        },
        "id": "11c56871",
        "outputId": "90330614-db1a-41f1-a5b3-7b26e83b3022"
      },
      "outputs": [
        {
          "output_type": "execute_result",
          "data": {
            "text/plain": [
              "2"
            ]
          },
          "metadata": {},
          "execution_count": 11
        }
      ],
      "source": [
        "# Numero de dimensoes\n",
        "array2.ndim"
      ]
    },
    {
      "cell_type": "markdown",
      "id": "0d7dd45f",
      "metadata": {
        "id": "0d7dd45f"
      },
      "source": [
        "##### em Python tudo é objeto\n",
        "##### exemplos de Metodo e atributos de um objeto"
      ]
    },
    {
      "cell_type": "code",
      "execution_count": null,
      "id": "238b8ad3",
      "metadata": {
        "colab": {
          "base_uri": "https://localhost:8080/"
        },
        "id": "238b8ad3",
        "outputId": "beef12c6-e326-4709-d112-b39b6308c854"
      },
      "outputs": [
        {
          "output_type": "execute_result",
          "data": {
            "text/plain": [
              "6"
            ]
          },
          "metadata": {},
          "execution_count": 12
        }
      ],
      "source": [
        "# Metodo\n",
        "# Vamos usar o metodo MAX para ver o valor maximo do nosso objeto array2\n",
        "array2.max()\n",
        "\n",
        "# o numero 6 e o maior valor"
      ]
    },
    {
      "cell_type": "code",
      "execution_count": null,
      "id": "df987f4e",
      "metadata": {
        "colab": {
          "base_uri": "https://localhost:8080/"
        },
        "id": "df987f4e",
        "outputId": "9cff27ad-5fe5-4167-a830-3526ad022ad1"
      },
      "outputs": [
        {
          "output_type": "execute_result",
          "data": {
            "text/plain": [
              "2"
            ]
          },
          "metadata": {},
          "execution_count": 13
        }
      ],
      "source": [
        "# Atributo\n",
        "array2.ndim\n",
        "\n",
        "# Perceba que nosso objeto array2 tem duas dimensoes como atributo"
      ]
    },
    {
      "cell_type": "markdown",
      "id": "a86267b0",
      "metadata": {
        "id": "a86267b0"
      },
      "source": [
        "### Criando uma Estrutura NumPy com funcao Arange"
      ]
    },
    {
      "cell_type": "code",
      "execution_count": null,
      "id": "8c41d241",
      "metadata": {
        "id": "8c41d241"
      },
      "outputs": [],
      "source": [
        "# Essa funcao permite nos criamos um array conforme precisamos\n",
        "# Veja este exemplo, queremos um array com registros de 0 a 14\n",
        "# Sempre lembre que python e a começa do 0 por isso ele foi do 0 ao 14 totalizando 15 registros\n",
        "array3 = np.arange(15)"
      ]
    },
    {
      "cell_type": "code",
      "execution_count": null,
      "id": "3e3696df",
      "metadata": {
        "colab": {
          "base_uri": "https://localhost:8080/"
        },
        "id": "3e3696df",
        "outputId": "96987b0a-5c13-4997-fe21-9a2b80c4f28e"
      },
      "outputs": [
        {
          "output_type": "stream",
          "name": "stdout",
          "text": [
            "[ 0  1  2  3  4  5  6  7  8  9 10 11 12 13 14]\n"
          ]
        }
      ],
      "source": [
        "# Veja o array\n",
        "print(array3)"
      ]
    },
    {
      "cell_type": "code",
      "execution_count": null,
      "id": "c1992199",
      "metadata": {
        "colab": {
          "base_uri": "https://localhost:8080/"
        },
        "id": "c1992199",
        "outputId": "29bb381c-fbc0-42b5-ef9c-c4c8d873643a"
      },
      "outputs": [
        {
          "output_type": "stream",
          "name": "stdout",
          "text": [
            "[ 0  3  6  9 12 15]\n"
          ]
        }
      ],
      "source": [
        "# Nos podemos passar mais parametros para criacao do array e deixa-lo customizado\n",
        "# Neste caso passamos o inicio, fim e os \"pulos\" que queremos\n",
        "# O ultimo numero nesta funcao e ignorado ou seja vc teria que passar ate o 16 para ele retornar o 15\n",
        "array4 = np.arange(0, 16, 3); print(array4)\n",
        "\n",
        "# Neste caso pedimos um array do 0 ao 14 pulando de 3 em 3\n",
        "# Veja que no caso ele nao trouxe o ultimo numero pois nao tem casas o suficiente para ele ter ido ate o 15 que seria o proximo"
      ]
    },
    {
      "cell_type": "markdown",
      "id": "b0a58fb5",
      "metadata": {
        "id": "b0a58fb5"
      },
      "source": [
        "### Criando uma Estrutura NumPy com funcao Linspace"
      ]
    },
    {
      "cell_type": "code",
      "execution_count": null,
      "id": "eb3311a0",
      "metadata": {
        "colab": {
          "base_uri": "https://localhost:8080/"
        },
        "id": "eb3311a0",
        "outputId": "3f16cc57-7c78-481a-ef89-d5cf18fa81fe"
      },
      "outputs": [
        {
          "output_type": "execute_result",
          "data": {
            "text/plain": [
              "array([ 0. ,  2.5,  5. ,  7.5, 10. ])"
            ]
          },
          "metadata": {},
          "execution_count": 17
        }
      ],
      "source": [
        "# Esta funcao vai criar o array com o intervalo entre os numero igual ou seja linear\n",
        "# Veja nos passamos o valor de inicio, fim e o numero de elementos que queremos\n",
        "array5 = np.linspace(0, 10, 5) ; array5"
      ]
    },
    {
      "cell_type": "markdown",
      "id": "77863e90",
      "metadata": {
        "id": "77863e90"
      },
      "source": [
        "### Outras funcoes para criar estruturas"
      ]
    },
    {
      "cell_type": "markdown",
      "id": "57f4224b",
      "metadata": {
        "id": "57f4224b"
      },
      "source": [
        "#### numpy.zeros"
      ]
    },
    {
      "cell_type": "code",
      "execution_count": null,
      "id": "535fbadb",
      "metadata": {
        "colab": {
          "base_uri": "https://localhost:8080/"
        },
        "id": "535fbadb",
        "outputId": "38e494fc-3a51-4b09-d029-e04114a9218a"
      },
      "outputs": [
        {
          "output_type": "execute_result",
          "data": {
            "text/plain": [
              "array([[0., 0., 0., 0., 0., 0., 0., 0.],\n",
              "       [0., 0., 0., 0., 0., 0., 0., 0.],\n",
              "       [0., 0., 0., 0., 0., 0., 0., 0.],\n",
              "       [0., 0., 0., 0., 0., 0., 0., 0.],\n",
              "       [0., 0., 0., 0., 0., 0., 0., 0.],\n",
              "       [0., 0., 0., 0., 0., 0., 0., 0.],\n",
              "       [0., 0., 0., 0., 0., 0., 0., 0.],\n",
              "       [0., 0., 0., 0., 0., 0., 0., 0.],\n",
              "       [0., 0., 0., 0., 0., 0., 0., 0.],\n",
              "       [0., 0., 0., 0., 0., 0., 0., 0.]])"
            ]
          },
          "metadata": {},
          "execution_count": 18
        }
      ],
      "source": [
        "# Vamos criar um array preenchido com zeros\n",
        "# chamamos a funcao e passamos o numero de registros que queremos e o numero de dimensoes\n",
        "# No caso sao 10 linhas e 8 colunas\n",
        "# Os . e pq os valores foram criados do tipo float/decimal\n",
        "array6 = np.zeros((10, 8)) ; array6\n",
        "\n",
        "# Um exemplo do uso deste tipo de array e quando estamos treinamdo um modelo de rede neural artificial\n",
        "# Todo o treinamento dessa rede neural e feito atraves de operacoes com arrays\n",
        "# Usamos este tipo de array para criar os pesos, entao damos a estrutura para o array com zero\n",
        "# E os valores vao mudando conforme o andamento do processo, e uma forma de organizacao do trabalho"
      ]
    },
    {
      "cell_type": "markdown",
      "id": "ffea626a",
      "metadata": {
        "id": "ffea626a"
      },
      "source": [
        "#### numpy.ones"
      ]
    },
    {
      "cell_type": "code",
      "execution_count": null,
      "id": "d7218825",
      "metadata": {
        "colab": {
          "base_uri": "https://localhost:8080/"
        },
        "id": "d7218825",
        "outputId": "47a1d9f5-c4dd-491c-a766-fce810d7e6c8"
      },
      "outputs": [
        {
          "output_type": "execute_result",
          "data": {
            "text/plain": [
              "array([[[1., 1., 1.],\n",
              "        [1., 1., 1.],\n",
              "        [1., 1., 1.],\n",
              "        [1., 1., 1.]],\n",
              "\n",
              "       [[1., 1., 1.],\n",
              "        [1., 1., 1.],\n",
              "        [1., 1., 1.],\n",
              "        [1., 1., 1.]]])"
            ]
          },
          "metadata": {},
          "execution_count": 19
        }
      ],
      "source": [
        "# Ou entao podemos criar um array preenchido com valores 1\n",
        "# Neste caso pedimos para criar 2 arrays com 4 registros e 3 colunas\n",
        "array7 = np.ones((2, 4, 3)) ; array7"
      ]
    },
    {
      "cell_type": "markdown",
      "id": "7f9d6649",
      "metadata": {
        "id": "7f9d6649"
      },
      "source": [
        "#### numpy.eye"
      ]
    },
    {
      "cell_type": "code",
      "execution_count": null,
      "id": "a025c1d3",
      "metadata": {
        "colab": {
          "base_uri": "https://localhost:8080/"
        },
        "id": "a025c1d3",
        "outputId": "6f672e66-ace9-42c9-cd84-ef07171e69c4"
      },
      "outputs": [
        {
          "output_type": "execute_result",
          "data": {
            "text/plain": [
              "array([[1., 0., 0., 0.],\n",
              "       [0., 1., 0., 0.],\n",
              "       [0., 0., 1., 0.],\n",
              "       [0., 0., 0., 1.]])"
            ]
          },
          "metadata": {},
          "execution_count": 20
        }
      ],
      "source": [
        "# Podemos criar uma matriz identidade\n",
        "array8 = np.eye(4) ; array8\n",
        "\n",
        "# E uma matriz preenchida com 0 e numeros 1 na diagonal"
      ]
    },
    {
      "cell_type": "markdown",
      "id": "e35b673c",
      "metadata": {
        "id": "e35b673c"
      },
      "source": [
        "#### numpy.diag"
      ]
    },
    {
      "cell_type": "code",
      "execution_count": null,
      "id": "d50a28f4",
      "metadata": {
        "colab": {
          "base_uri": "https://localhost:8080/"
        },
        "id": "d50a28f4",
        "outputId": "9b7d86c5-494c-4e1a-c115-0e5aaabba8e6"
      },
      "outputs": [
        {
          "output_type": "execute_result",
          "data": {
            "text/plain": [
              "array([[1, 0, 0, 0, 0, 0, 0],\n",
              "       [0, 2, 0, 0, 0, 0, 0],\n",
              "       [0, 0, 3, 0, 0, 0, 0],\n",
              "       [0, 0, 0, 4, 0, 0, 0],\n",
              "       [0, 0, 0, 0, 5, 0, 0],\n",
              "       [0, 0, 0, 0, 0, 6, 0],\n",
              "       [0, 0, 0, 0, 0, 0, 7]])"
            ]
          },
          "metadata": {},
          "execution_count": 21
        }
      ],
      "source": [
        "# Podemos criar uma matriz diagonal, so que desta vez informando os numeros que queremos na diagonal\n",
        "array9 = np.diag((1, 2, 3, 4, 5, 6, 7))\n",
        "array9"
      ]
    },
    {
      "cell_type": "markdown",
      "id": "f2f6b044",
      "metadata": {
        "id": "f2f6b044"
      },
      "source": [
        "#### numpy.random.rand"
      ]
    },
    {
      "cell_type": "code",
      "execution_count": null,
      "id": "73f43413",
      "metadata": {
        "colab": {
          "base_uri": "https://localhost:8080/"
        },
        "id": "73f43413",
        "outputId": "7786ec13-2082-4827-87ba-88a5abc5e8f7"
      },
      "outputs": [
        {
          "output_type": "execute_result",
          "data": {
            "text/plain": [
              "array([0.841988  , 0.94070134, 0.9440372 , 0.85540686, 0.94082441,\n",
              "       0.52064857, 0.65432796, 0.66945543, 0.26450405, 0.00307814])"
            ]
          },
          "metadata": {},
          "execution_count": 22
        }
      ],
      "source": [
        "# Esta funcao cria uma sequencia de numeros uniformemente distribuidos com range de 0 até onde vc escolher\n",
        "array10 = np.random.rand(10); array10"
      ]
    },
    {
      "cell_type": "markdown",
      "id": "9e906159",
      "metadata": {
        "id": "9e906159"
      },
      "source": [
        "#### np.random.randn"
      ]
    },
    {
      "cell_type": "code",
      "execution_count": null,
      "id": "5775c13d",
      "metadata": {
        "colab": {
          "base_uri": "https://localhost:8080/"
        },
        "id": "5775c13d",
        "outputId": "8bb47b85-f3ef-4043-9fce-dd9578a9775b"
      },
      "outputs": [
        {
          "output_type": "execute_result",
          "data": {
            "text/plain": [
              "array([ 0.09716359,  0.92496456, -0.51173224,  1.23704115,  0.39263168,\n",
              "       -0.04823679, -0.40737243,  0.76824249, -0.2687105 , -0.03566952])"
            ]
          },
          "metadata": {},
          "execution_count": 23
        }
      ],
      "source": [
        "# Esta funcao é muito boa, ela cria uma sequencia de numeros com distribuicao normal\n",
        "# A distribuicao normal e um tipo de distribuicao muito utilizada na estatistica\n",
        "array11 = np.random.randn(10); array11"
      ]
    },
    {
      "cell_type": "code",
      "execution_count": null,
      "id": "9fa7ca13",
      "metadata": {
        "id": "9fa7ca13"
      },
      "outputs": [],
      "source": [
        "#!pip install matplotlib"
      ]
    },
    {
      "cell_type": "code",
      "execution_count": null,
      "id": "9dc2b379",
      "metadata": {
        "colab": {
          "base_uri": "https://localhost:8080/",
          "height": 472
        },
        "id": "9dc2b379",
        "outputId": "cc2d4dfc-2186-4c1f-86af-cacabd054630"
      },
      "outputs": [
        {
          "output_type": "display_data",
          "data": {
            "text/plain": [
              "<Figure size 640x480 with 1 Axes>"
            ],
            "image/png": "[encoded data removed]"
          },
          "metadata": {}
        }
      ],
      "source": [
        "import matplotlib.pyplot as plt\n",
        "\n",
        "#plt.hist(array11, bins=5, density=True, alpha=0.6, color='b')\n",
        "\n",
        "dados = np.random.randn(1000)\n",
        "\n",
        "# Criando o histograma\n",
        "plt.hist(dados, bins=30, density=True, alpha=0.6, color='#F23')\n",
        "\n",
        "plt.title('Histograma da Distribuição Normal')\n",
        "plt.xlabel('Valores')\n",
        "plt.ylabel('Densidade')\n",
        "\n",
        "# Exibindo o gráfico\n",
        "plt.show()"
      ]
    },
    {
      "cell_type": "markdown",
      "id": "afc68b26",
      "metadata": {
        "id": "afc68b26"
      },
      "source": [
        "#### numpy.empty"
      ]
    },
    {
      "cell_type": "code",
      "execution_count": null,
      "id": "e720a1d2",
      "metadata": {
        "colab": {
          "base_uri": "https://localhost:8080/"
        },
        "id": "e720a1d2",
        "outputId": "6ab0a366-124a-44fe-ff6d-7151d34a1a1b"
      },
      "outputs": [
        {
          "output_type": "execute_result",
          "data": {
            "text/plain": [
              "array([[ 58.77777778, 138.9117944 ],\n",
              "       [219.04581103, 299.17982766],\n",
              "       [379.31384428, 422.87777778]])"
            ]
          },
          "metadata": {},
          "execution_count": 26
        }
      ],
      "source": [
        "# Podemos tambem criar um array vazio\n",
        "# Neste caso queremos 3 registros e 2 dimensoes\n",
        "# Este e o mesmo caso do array preenchido com 0 onde vc quer apenas a estrutura e depois a preenche\n",
        "# Esses numeros sao apenas lixo de memoria, ele esta vazio mesmo\n",
        "array12 = np.empty((3,2)) ; array12"
      ]
    },
    {
      "cell_type": "code",
      "source": [
        "from contador import contador_regressivo\n",
        ">contador_regressivo(5)\n"
      ],
      "metadata": {
        "colab": {
          "base_uri": "https://localhost:8080/",
          "height": 106
        },
        "id": "JxcMhZl-4vrP",
        "outputId": "16a1ca1f-cca6-4276-867d-41e52ad6dd8b"
      },
      "id": "JxcMhZl-4vrP",
      "execution_count": null,
      "outputs": [
        {
          "output_type": "error",
          "ename": "SyntaxError",
          "evalue": "invalid syntax (<ipython-input-35-fda4fd145b2a>, line 2)",
          "traceback": [
            "\u001b[0;36m  File \u001b[0;32m\"<ipython-input-35-fda4fd145b2a>\"\u001b[0;36m, line \u001b[0;32m2\u001b[0m\n\u001b[0;31m    >contador_regressivo(5)\u001b[0m\n\u001b[0m    ^\u001b[0m\n\u001b[0;31mSyntaxError\u001b[0m\u001b[0;31m:\u001b[0m invalid syntax\n"
          ]
        }
      ]
    },
    {
      "cell_type": "markdown",
      "id": "f2477809",
      "metadata": {
        "id": "f2477809"
      },
      "source": [
        "## Exercícios\n",
        "\n"
      ]
    },
    {
      "cell_type": "markdown",
      "id": "7930587f",
      "metadata": {
        "id": "7930587f"
      },
      "source": [
        "### Exercício 1: Criação de Arrays\n",
        "\n",
        "Crie um array unidimensional com números de 1 a 10 e um array bidimensional 2x5 com os mesmos números.\n",
        "\n",
        "<!--\n",
        "# Array unidimensional\n",
        "array1d = np.arange(1, 11)\n",
        "print(array1d)\n",
        "\n",
        "# Array bidimensional\n",
        "array2d = np.arange(1, 11).reshape(2, 5)\n",
        "print(array2d)\n",
        "-->"
      ]
    },
    {
      "cell_type": "code",
      "execution_count": null,
      "id": "94d4a2e5",
      "metadata": {
        "colab": {
          "base_uri": "https://localhost:8080/"
        },
        "id": "94d4a2e5",
        "outputId": "413ba852-270a-46d4-8a40-8f362e319b21"
      },
      "outputs": [
        {
          "output_type": "stream",
          "name": "stdout",
          "text": [
            "[ 1  2  3  4  5  6  7  8  9 10]\n",
            "\n",
            "[[ 1  2  3  4  5]\n",
            " [ 6  7  8  9 10]]\n"
          ]
        }
      ],
      "source": [
        "# R:\n",
        "# Array unidimensional\n",
        "\n",
        "array1d = np.arange(1, 11)\n",
        "print(array1d)\n",
        "\n",
        "print()\n",
        "\n",
        "# Array bidimensional\n",
        "array2d = np.arange(1, 11).reshape(2, 5)\n",
        "print(array2d)"
      ]
    },
    {
      "cell_type": "markdown",
      "id": "5b7cf9bb",
      "metadata": {
        "id": "5b7cf9bb"
      },
      "source": [
        "### Exercício 2: Criação de arrays\n",
        "\n",
        "Crie um array Numpy de tamanho 10 com todos os valores iguais a 5.\n",
        "\n",
        "<!--\n",
        "arr = np.full(10, 5)\n",
        "print(arr)\n",
        "-->"
      ]
    },
    {
      "cell_type": "code",
      "execution_count": null,
      "id": "d6b6a069",
      "metadata": {
        "colab": {
          "base_uri": "https://localhost:8080/"
        },
        "id": "d6b6a069",
        "outputId": "88011a4c-cf48-4965-a023-fd4aebb583d0"
      },
      "outputs": [
        {
          "output_type": "stream",
          "name": "stdout",
          "text": [
            "[5 5 5 5 5 5 5 5 5 5]\n"
          ]
        }
      ],
      "source": [
        "# R:\n",
        "# np.full()\n",
        "\n",
        "arr = np.full(10, 5)\n",
        "print(arr)\n",
        "\n"
      ]
    }
  ],
  "metadata": {
    "kernelspec": {
      "display_name": "Python 3 (ipykernel)",
      "language": "python",
      "name": "python3"
    },
    "language_info": {
      "codemirror_mode": {
        "name": "ipython",
        "version": 3
      },
      "file_extension": ".py",
      "mimetype": "text/x-python",
      "name": "python",
      "nbconvert_exporter": "python",
      "pygments_lexer": "ipython3",
      "version": "3.11.4"
    },
    "colab": {
      "provenance": [],
      "include_colab_link": true
    }
  },
  "nbformat": 4,
  "nbformat_minor": 5
}