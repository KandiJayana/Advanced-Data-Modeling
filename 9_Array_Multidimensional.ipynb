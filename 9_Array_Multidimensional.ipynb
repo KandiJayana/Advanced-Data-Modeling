{
  "cells": [
    {
      "cell_type": "markdown",
      "metadata": {
        "id": "view-in-github",
        "colab_type": "text"
      },
      "source": [
        "<a href=\"https://colab.research.google.com/github/KandiJayana/Advanced-Data-Modeling/blob/main/9_Array_Multidimensional.ipynb\" target=\"_parent\"><img src=\"https://colab.research.google.com/assets/colab-badge.svg\" alt=\"Open In Colab\"/></a>"
      ]
    },
    {
      "cell_type": "markdown",
      "id": "c97b89e4",
      "metadata": {
        "id": "c97b89e4"
      },
      "source": [
        "### Numpy"
      ]
    },
    {
      "cell_type": "markdown",
      "id": "2adbc37a",
      "metadata": {
        "id": "2adbc37a"
      },
      "source": [
        "#### Array Multidimensional!"
      ]
    },
    {
      "cell_type": "code",
      "execution_count": 1,
      "id": "46286df5",
      "metadata": {
        "id": "46286df5"
      },
      "outputs": [],
      "source": [
        "# Vamos começar do inicio que basicamente e voce importar o pacote numpy\n",
        "# O Anaconda Python ja possui o NumPy instalado por isso nao precisa instalar\n",
        "# Caso voce não consiga importa-lo tente usar o comando !pip install numpy e depois faça a importacao\n",
        "import numpy as np\n",
        "\n",
        "# Veja que importamos o numpy e demos o \"apelido\" de np que sempre sera utilizado quando formos chamar as funcoes do numpy"
      ]
    },
    {
      "cell_type": "code",
      "execution_count": 2,
      "id": "ea3de47e",
      "metadata": {
        "colab": {
          "base_uri": "https://localhost:8080/"
        },
        "id": "ea3de47e",
        "outputId": "573d950c-06c7-43a9-bbd3-efa917bc708d"
      },
      "outputs": [
        {
          "output_type": "stream",
          "name": "stdout",
          "text": [
            "1.26.4\n"
          ]
        }
      ],
      "source": [
        "# Vamos verificar a versao utilizada neste curso do numpy, e importante que voce utilize a mesma versao\n",
        "print(np.__version__)"
      ]
    },
    {
      "cell_type": "code",
      "execution_count": 3,
      "id": "46774326",
      "metadata": {
        "colab": {
          "base_uri": "https://localhost:8080/"
        },
        "id": "46774326",
        "outputId": "1ca9cc60-43df-4884-fdad-8ff8f66b966b"
      },
      "outputs": [
        {
          "output_type": "execute_result",
          "data": {
            "text/plain": [
              "array([[1, 2, 3],\n",
              "       [4, 5, 6],\n",
              "       [7, 8, 9]])"
            ]
          },
          "metadata": {},
          "execution_count": 3
        }
      ],
      "source": [
        "# criar um array com shape 3,3\n",
        "array1 = np.array([[1,2,3],[4,5,6],[7,8,9]]);array1"
      ]
    },
    {
      "cell_type": "code",
      "execution_count": 4,
      "id": "979a1f60",
      "metadata": {
        "colab": {
          "base_uri": "https://localhost:8080/"
        },
        "id": "979a1f60",
        "outputId": "f7825532-98c0-4061-fa7f-7b4ab89dacef"
      },
      "outputs": [
        {
          "output_type": "execute_result",
          "data": {
            "text/plain": [
              "array([7, 8, 9])"
            ]
          },
          "metadata": {},
          "execution_count": 4
        }
      ],
      "source": [
        "# retorna os elementos da terceira linha da matriz\n",
        "# o resultado é exatamente a ultima linha do\n",
        "# A linha de indice 2\n",
        "\n",
        "array1[2]"
      ]
    },
    {
      "cell_type": "code",
      "execution_count": 5,
      "id": "47bc1a77",
      "metadata": {
        "colab": {
          "base_uri": "https://localhost:8080/"
        },
        "id": "47bc1a77",
        "outputId": "b5f4b4bc-b358-446d-d590-c4c7926e4dc5"
      },
      "outputs": [
        {
          "output_type": "execute_result",
          "data": {
            "text/plain": [
              "array([7, 8, 9])"
            ]
          },
          "metadata": {},
          "execution_count": 5
        }
      ],
      "source": [
        "# retorna os elementos da terceira linha da matriz de outra forma\n",
        "# o resultado é exatamente a ultima linha do\n",
        "# A linha de indice 2\n",
        "\n",
        "array1[2,]"
      ]
    },
    {
      "cell_type": "code",
      "execution_count": 6,
      "id": "62d828ae",
      "metadata": {
        "colab": {
          "base_uri": "https://localhost:8080/"
        },
        "id": "62d828ae",
        "outputId": "5c059b27-28d5-42e9-a1f3-1a636c0f5bea"
      },
      "outputs": [
        {
          "output_type": "execute_result",
          "data": {
            "text/plain": [
              "array([2, 5, 8])"
            ]
          },
          "metadata": {},
          "execution_count": 6
        }
      ],
      "source": [
        "# Retornando todas as linhas da segunda coluna da matriz\n",
        "# queremos todas as linhas, e apenas a coluna de indice 1\n",
        "# selecionamos uma coluna porem retorna uma unica lista de valores\n",
        "\n",
        "array1[:,1]"
      ]
    },
    {
      "cell_type": "code",
      "execution_count": 7,
      "id": "b0f825a9",
      "metadata": {
        "colab": {
          "base_uri": "https://localhost:8080/"
        },
        "id": "b0f825a9",
        "outputId": "6dfe5710-c458-4713-8a1c-ef54cf224980"
      },
      "outputs": [
        {
          "output_type": "execute_result",
          "data": {
            "text/plain": [
              "8"
            ]
          },
          "metadata": {},
          "execution_count": 7
        }
      ],
      "source": [
        "# Fatiamento/Slicing da matriz\n",
        "# queremos retornar a linha de indice 2 e\n",
        "# a coluna de indice 1\n",
        "\n",
        "array1[2,1]"
      ]
    },
    {
      "cell_type": "code",
      "execution_count": 8,
      "id": "ba77d7ac",
      "metadata": {
        "colab": {
          "base_uri": "https://localhost:8080/"
        },
        "id": "ba77d7ac",
        "outputId": "f57a28e4-7df1-4886-e220-616feff3997d"
      },
      "outputs": [
        {
          "output_type": "execute_result",
          "data": {
            "text/plain": [
              "array([[ 1,  2,  3],\n",
              "       [ 4,  5, 16],\n",
              "       [ 7,  8,  9]])"
            ]
          },
          "metadata": {},
          "execution_count": 8
        }
      ],
      "source": [
        "# usando atribuicao\n",
        "# alterar um dos elementos da matriz\n",
        "# alterar o elemento da linha de indice 1 e coluna indice 2\n",
        "\n",
        "# chamamos o array e\n",
        "# indicamos atravez do slicing o elemento que queremos atribuir o novo valor\n",
        "# após, o elemento foi alterado\n",
        "\n",
        "array1[1,2] = 16 ; array1"
      ]
    },
    {
      "cell_type": "code",
      "execution_count": 11,
      "id": "7733f1cd",
      "metadata": {
        "colab": {
          "base_uri": "https://localhost:8080/"
        },
        "id": "7733f1cd",
        "outputId": "166674c5-e5e9-434f-de21-1efef10f0744"
      },
      "outputs": [
        {
          "output_type": "execute_result",
          "data": {
            "text/plain": [
              "(3,)"
            ]
          },
          "metadata": {},
          "execution_count": 11
        }
      ],
      "source": [
        "# criando mais um array para fazer um teste\n",
        "# Temos um array de 3 elementos\n",
        "\n",
        "array2 = np.array([10,11,12])\n",
        "array2.shape"
      ]
    },
    {
      "cell_type": "code",
      "execution_count": 10,
      "id": "a1749a6c",
      "metadata": {
        "colab": {
          "base_uri": "https://localhost:8080/",
          "height": 176
        },
        "id": "a1749a6c",
        "outputId": "baa8af3d-d491-48a3-ee30-3d62dae4624a"
      },
      "outputs": [
        {
          "output_type": "error",
          "ename": "IndexError",
          "evalue": "index 6 is out of bounds for axis 0 with size 3",
          "traceback": [
            "\u001b[0;31m---------------------------------------------------------------------------\u001b[0m",
            "\u001b[0;31mIndexError\u001b[0m                                Traceback (most recent call last)",
            "\u001b[0;32m<ipython-input-10-988c17c56c9d>\u001b[0m in \u001b[0;36m<cell line: 3>\u001b[0;34m()\u001b[0m\n\u001b[1;32m      1\u001b[0m \u001b[0;31m# ao chamar um elemento que nao existe no array\u001b[0m\u001b[0;34m\u001b[0m\u001b[0;34m\u001b[0m\u001b[0m\n\u001b[1;32m      2\u001b[0m \u001b[0;31m# Retorna um erro\u001b[0m\u001b[0;34m\u001b[0m\u001b[0;34m\u001b[0m\u001b[0m\n\u001b[0;32m----> 3\u001b[0;31m \u001b[0marray2\u001b[0m\u001b[0;34m[\u001b[0m\u001b[0;36m6\u001b[0m\u001b[0;34m]\u001b[0m\u001b[0;34m\u001b[0m\u001b[0;34m\u001b[0m\u001b[0m\n\u001b[0m",
            "\u001b[0;31mIndexError\u001b[0m: index 6 is out of bounds for axis 0 with size 3"
          ]
        }
      ],
      "source": [
        "# ao chamar um elemento que nao existe no array\n",
        "# Retorna um erro\n",
        "array2[6]"
      ]
    },
    {
      "cell_type": "code",
      "execution_count": null,
      "id": "c0e50143",
      "metadata": {
        "id": "c0e50143"
      },
      "outputs": [],
      "source": []
    },
    {
      "cell_type": "markdown",
      "id": "ca785ca3",
      "metadata": {
        "id": "ca785ca3"
      },
      "source": [
        "# Exercícios"
      ]
    },
    {
      "cell_type": "markdown",
      "id": "26d0c78e",
      "metadata": {
        "id": "26d0c78e"
      },
      "source": [
        "### Exercício 1. Calcule o produto de dois arrays de matriz 2x2.\n",
        "\n",
        "<!--\n",
        "arr1 = np.array([[1, 2], [3, 4]])\n",
        "arr2 = np.array([[5, 6], [7, 8]])\n",
        "produto_ponto = np.dot(arr1, arr2)\n",
        "print(produto_ponto)\n",
        "-->"
      ]
    },
    {
      "cell_type": "code",
      "execution_count": 12,
      "id": "f6207da3",
      "metadata": {
        "colab": {
          "base_uri": "https://localhost:8080/"
        },
        "id": "f6207da3",
        "outputId": "dfd0cb30-82ba-403d-9406-1bef677fe963"
      },
      "outputs": [
        {
          "output_type": "stream",
          "name": "stdout",
          "text": [
            "[[19 22]\n",
            " [43 50]]\n"
          ]
        }
      ],
      "source": [
        "# R:\n",
        "\n",
        "arr1 = np.array([[1, 2], [3, 4]])\n",
        "arr2 = np.array([[5, 6], [7, 8]])\n",
        "produto_ponto = np.dot(arr1, arr2)\n",
        "print(produto_ponto)"
      ]
    }
  ],
  "metadata": {
    "kernelspec": {
      "display_name": "Python 3 (ipykernel)",
      "language": "python",
      "name": "python3"
    },
    "language_info": {
      "codemirror_mode": {
        "name": "ipython",
        "version": 3
      },
      "file_extension": ".py",
      "mimetype": "text/x-python",
      "name": "python",
      "nbconvert_exporter": "python",
      "pygments_lexer": "ipython3",
      "version": "3.11.4"
    },
    "colab": {
      "provenance": [],
      "include_colab_link": true
    }
  },
  "nbformat": 4,
  "nbformat_minor": 5
}