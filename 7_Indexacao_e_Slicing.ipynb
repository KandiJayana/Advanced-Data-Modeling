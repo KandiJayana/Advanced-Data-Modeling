{
  "cells": [
    {
      "cell_type": "markdown",
      "metadata": {
        "id": "view-in-github",
        "colab_type": "text"
      },
      "source": [
        "<a href=\"https://colab.research.google.com/github/KandiJayana/Advanced-Data-Modeling/blob/main/7_Indexacao_e_Slicing.ipynb\" target=\"_parent\"><img src=\"https://colab.research.google.com/assets/colab-badge.svg\" alt=\"Open In Colab\"/></a>"
      ]
    },
    {
      "cell_type": "markdown",
      "id": "8cbeeb59",
      "metadata": {
        "id": "8cbeeb59"
      },
      "source": [
        "### Manipulacao de Dados com Numpy"
      ]
    },
    {
      "cell_type": "markdown",
      "id": "cb2a302c",
      "metadata": {
        "id": "cb2a302c"
      },
      "source": [
        "#### Indexacao e Slicing"
      ]
    },
    {
      "cell_type": "code",
      "execution_count": 1,
      "id": "b016c621",
      "metadata": {
        "id": "b016c621"
      },
      "outputs": [],
      "source": [
        "# Vamos começar do inicio que basicamente e voce importar o pacote numpy\n",
        "# O Anaconda Python ja possui o NumPy instalado por isso nao precisa instalar\n",
        "# Caso voce não consiga importa-lo tente usar o comando !pip install numpy e depois faça a importacao\n",
        "import numpy as np\n",
        "\n",
        "# Veja que importamos o numpy e demos o \"apelido\" de np que sempre sera utilizado quando formos chamar as funcoes do numpy"
      ]
    },
    {
      "cell_type": "code",
      "execution_count": 2,
      "id": "903dbfc3",
      "metadata": {
        "colab": {
          "base_uri": "https://localhost:8080/"
        },
        "id": "903dbfc3",
        "outputId": "81035c3f-8e71-4401-8410-b46dee50f988"
      },
      "outputs": [
        {
          "output_type": "stream",
          "name": "stdout",
          "text": [
            "1.26.4\n"
          ]
        }
      ],
      "source": [
        "# Vamos verificar a versao utilizada neste curso do numpy, e importante que voce utilize a mesma versao\n",
        "print(np.__version__)"
      ]
    },
    {
      "cell_type": "markdown",
      "id": "673016cf",
      "metadata": {
        "id": "673016cf"
      },
      "source": [
        "### Indexacao e Slicing com Numpy"
      ]
    },
    {
      "cell_type": "code",
      "execution_count": 3,
      "id": "4ea89da0",
      "metadata": {
        "colab": {
          "base_uri": "https://localhost:8080/"
        },
        "id": "4ea89da0",
        "outputId": "68519f22-4639-4a70-b6e2-8fcdb9df5b8c"
      },
      "outputs": [
        {
          "output_type": "execute_result",
          "data": {
            "text/plain": [
              "array([1, 2, 3, 4, 5])"
            ]
          },
          "metadata": {},
          "execution_count": 3
        }
      ],
      "source": [
        "# Vamos criar um array simples como voce conhece ja\n",
        "array1 = np.array([1, 2, 3, 4, 5])\n",
        "array1"
      ]
    },
    {
      "cell_type": "code",
      "execution_count": 4,
      "id": "5d2ad43c",
      "metadata": {
        "colab": {
          "base_uri": "https://localhost:8080/"
        },
        "id": "5d2ad43c",
        "outputId": "13f74ea8-89fc-45e4-baeb-51feb209ee9c"
      },
      "outputs": [
        {
          "output_type": "execute_result",
          "data": {
            "text/plain": [
              "1"
            ]
          },
          "metadata": {},
          "execution_count": 4
        }
      ],
      "source": [
        "# Vamos buscar o primeiro elemento do array\n",
        "array1[0]"
      ]
    },
    {
      "cell_type": "code",
      "execution_count": 5,
      "id": "2adc430e",
      "metadata": {
        "colab": {
          "base_uri": "https://localhost:8080/"
        },
        "id": "2adc430e",
        "outputId": "1a7ac2b3-7863-4f75-d699-31c5edaeef20"
      },
      "outputs": [
        {
          "output_type": "execute_result",
          "data": {
            "text/plain": [
              "2"
            ]
          },
          "metadata": {},
          "execution_count": 5
        }
      ],
      "source": [
        "# Vamos buscar o segundo elemento do array\n",
        "array1[1]"
      ]
    },
    {
      "cell_type": "code",
      "execution_count": 6,
      "id": "c55ffc34",
      "metadata": {
        "colab": {
          "base_uri": "https://localhost:8080/"
        },
        "id": "c55ffc34",
        "outputId": "f6997bfd-1367-40bf-ed5c-f1c186e53e69"
      },
      "outputs": [
        {
          "output_type": "execute_result",
          "data": {
            "text/plain": [
              "5"
            ]
          },
          "metadata": {},
          "execution_count": 6
        }
      ],
      "source": [
        "# Vamos buscar o ultimo elemento do array\n",
        "# Veja que e como se tivessemos indo de traz para frente\n",
        "array1[-1]"
      ]
    },
    {
      "cell_type": "code",
      "execution_count": 7,
      "id": "584d4fad",
      "metadata": {
        "colab": {
          "base_uri": "https://localhost:8080/"
        },
        "id": "584d4fad",
        "outputId": "63198f71-b789-480a-dfa1-2205b026354f"
      },
      "outputs": [
        {
          "output_type": "execute_result",
          "data": {
            "text/plain": [
              "array([ 0,  1,  2,  3,  4,  5,  6,  7,  8,  9, 10])"
            ]
          },
          "metadata": {},
          "execution_count": 7
        }
      ],
      "source": [
        "# Vamos criar um array com arange\n",
        "array2 = np.arange(11); array2"
      ]
    },
    {
      "cell_type": "code",
      "execution_count": 13,
      "id": "72362172",
      "metadata": {
        "colab": {
          "base_uri": "https://localhost:8080/"
        },
        "id": "72362172",
        "outputId": "25ee1020-01c0-44f5-b9ef-4127138ed88e"
      },
      "outputs": [
        {
          "output_type": "execute_result",
          "data": {
            "text/plain": [
              "array([9, 7, 5, 3])"
            ]
          },
          "metadata": {},
          "execution_count": 13
        }
      ],
      "source": [
        "# Invertendo o Array\n",
        "# array[início : fim : passo]\n",
        "#array2[:: -1]\n",
        "#array2[2 : 9 : 2]\n",
        "array2[9 : 2 : -2]"
      ]
    },
    {
      "cell_type": "code",
      "execution_count": 9,
      "id": "e31d907b",
      "metadata": {
        "colab": {
          "base_uri": "https://localhost:8080/"
        },
        "id": "e31d907b",
        "outputId": "e7ed1c51-c915-4b30-d8c2-edc56cda59e4"
      },
      "outputs": [
        {
          "output_type": "execute_result",
          "data": {
            "text/plain": [
              "array([10,  8,  6,  4,  2,  0])"
            ]
          },
          "metadata": {},
          "execution_count": 9
        }
      ],
      "source": [
        "# Invertendo o array\n",
        "# So que agora queremos os elementos de 2 em 2\n",
        "array2[::-2]"
      ]
    },
    {
      "cell_type": "markdown",
      "id": "8e5f5cd4",
      "metadata": {
        "id": "8e5f5cd4"
      },
      "source": [
        "# Exercícios"
      ]
    },
    {
      "cell_type": "markdown",
      "id": "28d0bd4a",
      "metadata": {
        "id": "28d0bd4a"
      },
      "source": [
        "### Exercício 1: Salvando Arrays\n",
        "\n",
        "Crie um array e salve-o em .npy. Carregue o array salvo.\n",
        "\n",
        "<!--\n",
        "# Criação do array\n",
        "array = np.array([1, 2, 3, 4, 5])\n",
        "\n",
        "# Salvando o array\n",
        "np.save(\"meu_array.npy\", array)\n",
        "\n",
        "# Carregando o array salvo\n",
        "array_carregado = np.load(\"meu_array.npy\")\n",
        "print(array_carregado)\n",
        "-->"
      ]
    },
    {
      "cell_type": "code",
      "execution_count": 19,
      "id": "81cbeda9",
      "metadata": {
        "colab": {
          "base_uri": "https://localhost:8080/"
        },
        "id": "81cbeda9",
        "outputId": "29c0cb1c-93f1-447a-dc1b-e364996e005f"
      },
      "outputs": [
        {
          "output_type": "stream",
          "name": "stdout",
          "text": [
            "[ 1  2  3  4  5  6  7  8  9 10]\n"
          ]
        }
      ],
      "source": [
        "# R:\n",
        "\n",
        "# Criação do array\n",
        "meu_array = np.array([1, 2, 3, 4, 5, 6, 7, 8, 9, 10])\n",
        "\n",
        "# Salvando o array\n",
        "np.save(\"meu_array.npy\", meu_array)\n",
        "\n",
        "# Carregando o array salvo\n",
        "array_carregado = np.load(\"meu_array.npy\")\n",
        "print(array_carregado)"
      ]
    },
    {
      "cell_type": "markdown",
      "id": "d2ea2336",
      "metadata": {
        "id": "d2ea2336"
      },
      "source": [
        "### Exercício 2: Extraindo Subarrays com Slicing\n",
        "\n",
        "Dado o array bidimensional abaixo, extraia:\n",
        "\n",
        "array = np.array([\n",
        "    [1, 2, 3, 4],\n",
        "    [5, 6, 7, 8],\n",
        "    [9, 10, 11, 12]\n",
        "])\n",
        "\n",
        "- A primeira linha.\n",
        "- As duas últimas colunas.\n",
        "- A submatriz formada pelas duas primeiras linhas e as três primeiras colunas.\n",
        "\n",
        "<!--\n",
        "# Primeira linha\n",
        "primeira_linha = array[0, :]\n",
        "print(\"Primeira linha:\", primeira_linha)\n",
        "\n",
        "# Duas últimas colunas\n",
        "duas_ultimas_colunas = array[:, -2:]\n",
        "print(\"Duas últimas colunas:\\n\", duas_ultimas_colunas)\n",
        "\n",
        "# Submatriz 2x3 das duas primeiras linhas e três primeiras colunas\n",
        "submatriz_2x3 = array[:2, :3]\n",
        "print(\"Submatriz 2x3:\\n\", submatriz_2x3)\n",
        "-->"
      ]
    },
    {
      "cell_type": "code",
      "execution_count": 27,
      "id": "121e91af",
      "metadata": {
        "id": "121e91af"
      },
      "outputs": [],
      "source": [
        "# R:\n",
        "\n",
        "# Dado o array bidimensional abaixo, extraia:\n",
        "#                  0  1  2  3\n",
        "array = np.array([[1, 2, 3, 4],\n",
        "                  [5, 6, 7, 8],\n",
        "                  [9, 10, 11, 12]])\n",
        "#                 -4, -3, -2, -1\n"
      ]
    },
    {
      "cell_type": "code",
      "source": [
        "#- A primeira linha.\n",
        "#- As duas últimas colunas.\n",
        "#- A submatriz formada pelas duas primeiras linhas e as três primeiras colunas.\n",
        "\n",
        "\n",
        "# Primeira linha\n",
        "primeira_linha = array[0, :]\n",
        "print(\"Primeira linha:\", primeira_linha)\n",
        "\n"
      ],
      "metadata": {
        "colab": {
          "base_uri": "https://localhost:8080/"
        },
        "id": "fONvLWndWcQl",
        "outputId": "fbe4581b-f8d1-4d2e-d16a-09c4e86ab64c"
      },
      "id": "fONvLWndWcQl",
      "execution_count": 28,
      "outputs": [
        {
          "output_type": "stream",
          "name": "stdout",
          "text": [
            "Primeira linha: [1 2 3 4]\n"
          ]
        }
      ]
    },
    {
      "cell_type": "code",
      "source": [
        "# Duas últimas colunas\n",
        "duas_ultimas_colunas = array[:, -2:]\n",
        "print(\"Duas últimas colunas:\\n\", duas_ultimas_colunas)\n",
        "\n"
      ],
      "metadata": {
        "colab": {
          "base_uri": "https://localhost:8080/"
        },
        "id": "koOLlNKSWgAV",
        "outputId": "8b04bf0e-f2f9-4c08-ab7a-609eed012c5c"
      },
      "id": "koOLlNKSWgAV",
      "execution_count": 29,
      "outputs": [
        {
          "output_type": "stream",
          "name": "stdout",
          "text": [
            "Duas últimas colunas:\n",
            " [[ 3  4]\n",
            " [ 7  8]\n",
            " [11 12]]\n"
          ]
        }
      ]
    },
    {
      "cell_type": "code",
      "source": [
        "# Submatriz 2x3 das duas primeiras linhas e três primeiras colunas\n",
        "submatriz_2x3 = array[:2, :]\n",
        "print(\"Submatriz 2x3:\\n\", submatriz_2x3)"
      ],
      "metadata": {
        "colab": {
          "base_uri": "https://localhost:8080/"
        },
        "id": "CJ0CbD4kWjYF",
        "outputId": "cc0cadf4-601f-42d8-ffec-0f26714f0f13"
      },
      "id": "CJ0CbD4kWjYF",
      "execution_count": 31,
      "outputs": [
        {
          "output_type": "stream",
          "name": "stdout",
          "text": [
            "Submatriz 2x3:\n",
            " [[1 2 3 4]\n",
            " [5 6 7 8]]\n"
          ]
        }
      ]
    }
  ],
  "metadata": {
    "kernelspec": {
      "display_name": "Python 3",
      "language": "python",
      "name": "python3"
    },
    "language_info": {
      "codemirror_mode": {
        "name": "ipython",
        "version": 3
      },
      "file_extension": ".py",
      "mimetype": "text/x-python",
      "name": "python",
      "nbconvert_exporter": "python",
      "pygments_lexer": "ipython3",
      "version": "3.11.4"
    },
    "colab": {
      "provenance": [],
      "toc_visible": true,
      "include_colab_link": true
    }
  },
  "nbformat": 4,
  "nbformat_minor": 5
}