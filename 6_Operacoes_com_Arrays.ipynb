{
  "cells": [
    {
      "cell_type": "markdown",
      "metadata": {
        "id": "view-in-github",
        "colab_type": "text"
      },
      "source": [
        "<a href=\"https://colab.research.google.com/github/KandiJayana/Advanced-Data-Modeling/blob/main/6_Operacoes_com_Arrays.ipynb\" target=\"_parent\"><img src=\"https://colab.research.google.com/assets/colab-badge.svg\" alt=\"Open In Colab\"/></a>"
      ]
    },
    {
      "cell_type": "markdown",
      "id": "a6f8361c",
      "metadata": {
        "id": "a6f8361c"
      },
      "source": [
        "#### Operacoes com arrays"
      ]
    },
    {
      "cell_type": "code",
      "execution_count": 1,
      "id": "025d887d",
      "metadata": {
        "id": "025d887d"
      },
      "outputs": [],
      "source": [
        "# Vamos começar do inicio que basicamente e voce importar o pacote numpy\n",
        "# O Anaconda Python ja possui o NumPy instalado por isso nao precisa instalar\n",
        "# Caso voce não consiga importa-lo tente usar o comando !pip install numpy e depois faça a importacao\n",
        "import numpy as np\n",
        "\n",
        "# Veja que importamos o numpy e demos o \"apelido\" de np que sempre sera utilizado quando formos chamar as funcoes do numpy"
      ]
    },
    {
      "cell_type": "code",
      "execution_count": 2,
      "id": "0e4c3e24",
      "metadata": {
        "colab": {
          "base_uri": "https://localhost:8080/"
        },
        "id": "0e4c3e24",
        "outputId": "55eab3dd-86b3-4a6d-9b79-ee7107fd6bd9"
      },
      "outputs": [
        {
          "output_type": "stream",
          "name": "stdout",
          "text": [
            "1.26.4\n"
          ]
        }
      ],
      "source": [
        "# Vamos verificar a versao utilizada neste curso do numpy, e importante que voce utilize a mesma versao\n",
        "print(np.__version__)"
      ]
    },
    {
      "cell_type": "markdown",
      "id": "8ddee257",
      "metadata": {
        "id": "8ddee257"
      },
      "source": [
        "##### Multiplicacao"
      ]
    },
    {
      "cell_type": "code",
      "execution_count": 3,
      "id": "a7f0d934",
      "metadata": {
        "colab": {
          "base_uri": "https://localhost:8080/"
        },
        "id": "a7f0d934",
        "outputId": "70ae4856-2ca8-4dbe-ccd6-c79f7fc62921"
      },
      "outputs": [
        {
          "output_type": "execute_result",
          "data": {
            "text/plain": [
              "array([ 0,  1,  2,  3,  4,  5,  6,  7,  8,  9, 10, 11, 12, 13, 14, 15, 16,\n",
              "       17, 18, 19])"
            ]
          },
          "metadata": {},
          "execution_count": 3
        }
      ],
      "source": [
        "# Vamos começar criando um array comum usando arange\n",
        "\n",
        "array1 = np.arange(0, 20); array1\n",
        "\n",
        "## Existem duas formas de criar este array usando operacoes"
      ]
    },
    {
      "cell_type": "code",
      "execution_count": 4,
      "id": "b33b2cd5",
      "metadata": {
        "colab": {
          "base_uri": "https://localhost:8080/"
        },
        "id": "b33b2cd5",
        "outputId": "110a641c-502d-40de-956c-9780e35dc3a8"
      },
      "outputs": [
        {
          "output_type": "execute_result",
          "data": {
            "text/plain": [
              "array([ 0,  5, 10, 15, 20, 25, 30, 35, 40, 45, 50, 55, 60, 65, 70, 75, 80,\n",
              "       85, 90, 95])"
            ]
          },
          "metadata": {},
          "execution_count": 4
        }
      ],
      "source": [
        "# Perceba que cada elemento do array foi multiplicados por 5\n",
        "# Porém o array se mantem como contagem de 0 a 19, claro\n",
        "# Pois o objeto criado foi um array de 0 a 19\n",
        "# Tudo isso com uma unica expressao simples\n",
        "array1 * 5"
      ]
    },
    {
      "cell_type": "code",
      "execution_count": 5,
      "id": "09443a83",
      "metadata": {
        "colab": {
          "base_uri": "https://localhost:8080/"
        },
        "id": "09443a83",
        "outputId": "ad9ada93-1ead-421b-b6bb-c46d927b4e90"
      },
      "outputs": [
        {
          "output_type": "execute_result",
          "data": {
            "text/plain": [
              "array([ 0,  5, 10, 15, 20, 25, 30, 35, 40, 45, 50, 55, 60, 65, 70, 75, 80,\n",
              "       85, 90, 95])"
            ]
          },
          "metadata": {},
          "execution_count": 5
        }
      ],
      "source": [
        "# Agora vamos colocar esta operacao de multiplicacao dentro do objeto\n",
        "array2 = np.arange(0, 20) * 5\n",
        "array2\n",
        "# Perceba que o array agora e essa contagem de 0 a 19\n",
        "# Onde todos os valores estao sendo multiplicados por 5"
      ]
    },
    {
      "cell_type": "markdown",
      "id": "3e48934d",
      "metadata": {
        "id": "3e48934d"
      },
      "source": [
        "##### Potencia"
      ]
    },
    {
      "cell_type": "code",
      "execution_count": 6,
      "id": "a2ecfff0",
      "metadata": {
        "colab": {
          "base_uri": "https://localhost:8080/"
        },
        "id": "a2ecfff0",
        "outputId": "2ff962d8-f789-4253-f6c1-86f49bc06e2a"
      },
      "outputs": [
        {
          "output_type": "execute_result",
          "data": {
            "text/plain": [
              "array([  0,   1,   4,   9,  16,  25,  36,  49,  64,  81, 100, 121, 144,\n",
              "       169, 196, 225, 256, 289, 324, 361])"
            ]
          },
          "metadata": {},
          "execution_count": 6
        }
      ],
      "source": [
        "# Vamos elevar todos os numeros do array ao quadrado\n",
        "# No Python apenas 1 aasterisco (*) e multiplicacao\n",
        "# 2 asteriscos (**) e potencia em python\n",
        "array3 = np.arange(0, 20) ** 2; array3"
      ]
    },
    {
      "cell_type": "markdown",
      "id": "7e57f922",
      "metadata": {
        "id": "7e57f922"
      },
      "source": [
        "##### Soma"
      ]
    },
    {
      "cell_type": "code",
      "execution_count": 7,
      "id": "9e36c06d",
      "metadata": {
        "colab": {
          "base_uri": "https://localhost:8080/"
        },
        "id": "9e36c06d",
        "outputId": "3c6a3baa-de61-43f2-b24b-d184a72a3c1f"
      },
      "outputs": [
        {
          "output_type": "execute_result",
          "data": {
            "text/plain": [
              "array([10, 11, 12, 13, 14, 15, 16, 17, 18, 19, 20, 21, 22, 23, 24, 25, 26,\n",
              "       27, 28, 29])"
            ]
          },
          "metadata": {},
          "execution_count": 7
        }
      ],
      "source": [
        "array4 = np.arange(0,20) + 10; array4"
      ]
    },
    {
      "cell_type": "code",
      "execution_count": 8,
      "id": "88848fb9",
      "metadata": {
        "colab": {
          "base_uri": "https://localhost:8080/"
        },
        "id": "88848fb9",
        "outputId": "5fdef7bf-89cd-480c-e32a-8035e6e972f4"
      },
      "outputs": [
        {
          "output_type": "execute_result",
          "data": {
            "text/plain": [
              "array([10, 12, 14, 16, 18, 20, 22, 24, 26, 28])"
            ]
          },
          "metadata": {},
          "execution_count": 8
        }
      ],
      "source": [
        "# Vamos criar um array de 0 a 19 e adicinar +10 em cada elemento do array\n",
        "# Vamos criar 2 arrays iguais para partirmos para proxima parte\n",
        "array5 = np.arange(0, 20, 2) + 10\n",
        "array6 = np.arange(0, 20, 2) + 10; array6"
      ]
    },
    {
      "cell_type": "markdown",
      "id": "4633334e",
      "metadata": {
        "id": "4633334e"
      },
      "source": [
        "#### Operacoes entre arrays"
      ]
    },
    {
      "cell_type": "code",
      "execution_count": 9,
      "id": "9453142d",
      "metadata": {
        "colab": {
          "base_uri": "https://localhost:8080/"
        },
        "id": "9453142d",
        "outputId": "a0a921f7-0e18-4da5-f32d-bed22666cdaf"
      },
      "outputs": [
        {
          "output_type": "execute_result",
          "data": {
            "text/plain": [
              "array([20, 24, 28, 32, 36, 40, 44, 48, 52, 56])"
            ]
          },
          "metadata": {},
          "execution_count": 9
        }
      ],
      "source": [
        "# Soma\n",
        "# Perceba que os 2 arrays tem o mesmo tamanho\n",
        "# E cada elemento do array5 somou ao elemento do array6 do indice correspondente\n",
        "# Ou seja o 1º elemento do array5 somou com o 1º elemento do array6\n",
        "# 2º com 2º etc\n",
        "array5 + array6"
      ]
    },
    {
      "cell_type": "code",
      "execution_count": 10,
      "id": "ff0ff953",
      "metadata": {
        "colab": {
          "base_uri": "https://localhost:8080/"
        },
        "id": "ff0ff953",
        "outputId": "409a8328-989a-4dc5-cb6d-6e80e2c64721"
      },
      "outputs": [
        {
          "output_type": "execute_result",
          "data": {
            "text/plain": [
              "array([0, 0, 0, 0, 0, 0, 0, 0, 0, 0])"
            ]
          },
          "metadata": {},
          "execution_count": 10
        }
      ],
      "source": [
        "# Subtracao\n",
        "array5 - array6"
      ]
    },
    {
      "cell_type": "code",
      "execution_count": 11,
      "id": "afbf0a9e",
      "metadata": {
        "colab": {
          "base_uri": "https://localhost:8080/"
        },
        "id": "afbf0a9e",
        "outputId": "a193c898-8163-487d-9a91-c84372e18fa5"
      },
      "outputs": [
        {
          "output_type": "execute_result",
          "data": {
            "text/plain": [
              "array([100, 144, 196, 256, 324, 400, 484, 576, 676, 784])"
            ]
          },
          "metadata": {},
          "execution_count": 11
        }
      ],
      "source": [
        "# Multiplicacao\n",
        "array5 * array6"
      ]
    },
    {
      "cell_type": "code",
      "execution_count": 12,
      "id": "8d27125b",
      "metadata": {
        "colab": {
          "base_uri": "https://localhost:8080/"
        },
        "id": "8d27125b",
        "outputId": "9247af4b-ab31-4815-b5b8-c3e3d7d8cd4d"
      },
      "outputs": [
        {
          "output_type": "execute_result",
          "data": {
            "text/plain": [
              "array([1., 1., 1., 1., 1., 1., 1., 1., 1., 1.])"
            ]
          },
          "metadata": {},
          "execution_count": 12
        }
      ],
      "source": [
        "# Divisao\n",
        "array5 / array6"
      ]
    },
    {
      "cell_type": "markdown",
      "id": "a72afc49",
      "metadata": {
        "id": "a72afc49"
      },
      "source": [
        "#### Comparacao entre arrays"
      ]
    },
    {
      "cell_type": "code",
      "execution_count": null,
      "id": "7931d88c",
      "metadata": {
        "id": "7931d88c"
      },
      "outputs": [],
      "source": [
        "array5 > array6"
      ]
    },
    {
      "cell_type": "code",
      "execution_count": 13,
      "id": "81130a58",
      "metadata": {
        "colab": {
          "base_uri": "https://localhost:8080/"
        },
        "id": "81130a58",
        "outputId": "12b2c68c-6213-42d7-b22f-3fb0a9f85445"
      },
      "outputs": [
        {
          "output_type": "execute_result",
          "data": {
            "text/plain": [
              "array([ True,  True,  True,  True,  True,  True,  True,  True,  True,\n",
              "        True])"
            ]
          },
          "metadata": {},
          "execution_count": 13
        }
      ],
      "source": [
        "# Nao esqueca\n",
        "# apenas um sinal de igual (=) vc esta fazendo atribuicao\n",
        "# Para fazer comparacao vc deve usar dois sinais de igual (==)\n",
        "# E diferenca nos usamos o !=\n",
        "array5 == array6"
      ]
    },
    {
      "cell_type": "code",
      "execution_count": 15,
      "id": "b5737b35",
      "metadata": {
        "id": "b5737b35"
      },
      "outputs": [],
      "source": [
        "# Booleanos\n",
        "array7 = np.array([False, True, False, True])\n",
        "array8 = np.array([False, False, True, True])\n"
      ]
    },
    {
      "cell_type": "code",
      "execution_count": 17,
      "id": "6de76360",
      "metadata": {
        "colab": {
          "base_uri": "https://localhost:8080/"
        },
        "id": "6de76360",
        "outputId": "fc69dd2a-f474-46a2-8db8-a72b2e559276"
      },
      "outputs": [
        {
          "output_type": "execute_result",
          "data": {
            "text/plain": [
              "array([False,  True,  True,  True])"
            ]
          },
          "metadata": {},
          "execution_count": 17
        }
      ],
      "source": [
        "# Vamos usar uma funcao do numpy\n",
        "# para fazer comparacao logica booleana entre os elementos do array\n",
        "np.logical_and(array7,array8)\n",
        "np.logical_or(array7,array8)\n",
        "\n",
        "# Veja false + false = false, true + true = true, false + true = false\n",
        "# Isso e logica computacional\n",
        "# Quase tudo feito no computador e no seu dia a dia depende da logica computacional"
      ]
    },
    {
      "cell_type": "code",
      "execution_count": 18,
      "id": "ca1bc399",
      "metadata": {
        "scrolled": true,
        "colab": {
          "base_uri": "https://localhost:8080/"
        },
        "id": "ca1bc399",
        "outputId": "e3fed6a2-4fdc-4bea-bd14-d538cf3a23d5"
      },
      "outputs": [
        {
          "output_type": "stream",
          "name": "stdout",
          "text": [
            "3.19 µs ± 80.5 ns per loop (mean ± std. dev. of 7 runs, 100000 loops each)\n"
          ]
        }
      ],
      "source": [
        "# Veja o tempo estimado em microsegundos aquele us = microsegundos\n",
        "# Isso para fazer as mesmas operacoes, isso pq o numpy e para computacao cientifica\n",
        "# Por isso ele e feito para ser mais performatico mesmo\n",
        "# Dependendo do seu volume de dados, essa diferenca e um divisor de aguas\n",
        "# Para grandes modelos de redes neurais, IA, machine learning\n",
        "# O numpy e muito usado devido a sua performance muito boa\n",
        "array_numpy = np.arange(500)\n",
        "%timeit array_numpy ** 4"
      ]
    },
    {
      "cell_type": "code",
      "execution_count": 20,
      "id": "856b833b",
      "metadata": {
        "scrolled": true,
        "colab": {
          "base_uri": "https://localhost:8080/"
        },
        "id": "856b833b",
        "outputId": "5777583e-ece2-4e55-8386-0badeba71767"
      },
      "outputs": [
        {
          "output_type": "stream",
          "name": "stdout",
          "text": [
            "304 µs ± 60.5 µs per loop (mean ± std. dev. of 7 runs, 1000 loops each)\n"
          ]
        }
      ],
      "source": [
        "# Perceba a diferenca ate em como a operacao e feita\n",
        "# Com python puro nos precisamos criar uma list comprehension\n",
        "# E entao fazer um loop entre os elementos do array\n",
        "# Veja para cada elemento i do array_python\n",
        "# Nos vamos elevar o elemento i do array_python para 4 potencia\n",
        "array_python = range(500)\n",
        "%timeit [array_python[i] ** 4 for i in array_python]"
      ]
    },
    {
      "cell_type": "code",
      "source": [],
      "metadata": {
        "id": "SPB4dW0vNZcE"
      },
      "id": "SPB4dW0vNZcE",
      "execution_count": null,
      "outputs": []
    },
    {
      "cell_type": "markdown",
      "id": "5d5cce3c",
      "metadata": {
        "id": "5d5cce3c"
      },
      "source": [
        "### Exercício 1: Operações Básicas com Arrays\n",
        "\n",
        "Dado o array a = np.array([1, 2, 3, 4, 5]), realize as seguintes operações:\n",
        "\n",
        "- Some 10 a cada elemento do array.\n",
        "- Multiplique cada elemento por 2.\n",
        "- Subtraia 1 de cada elemento.\n",
        "\n",
        "<!--\n",
        "a = np.array([1, 2, 3, 4, 5])\n",
        "\n",
        "# Soma 10\n",
        "a_plus_10 = a + 10\n",
        "print(a_plus_10)\n",
        "\n",
        "# Multiplicação por 2\n",
        "a_times_2 = a * 2\n",
        "print(a_times_2)\n",
        "\n",
        "# Subtrai 1\n",
        "a_minus_1 = a - 1\n",
        "print(a_minus_1)\n",
        "-->"
      ]
    },
    {
      "cell_type": "code",
      "execution_count": 21,
      "id": "fb996e89",
      "metadata": {
        "colab": {
          "base_uri": "https://localhost:8080/"
        },
        "id": "fb996e89",
        "outputId": "86f0ff2e-8c1b-4eb4-fded-d224d3eace4f"
      },
      "outputs": [
        {
          "output_type": "stream",
          "name": "stdout",
          "text": [
            "[11 12 13 14 15]\n",
            "[ 2  4  6  8 10]\n",
            "[0 1 2 3 4]\n"
          ]
        }
      ],
      "source": [
        "# R:\n",
        "a = np.array([1, 2, 3, 4, 5])\n",
        "\n",
        "# Soma 10\n",
        "a_plus_10 = a + 10\n",
        "print(a_plus_10)\n",
        "\n",
        "# Multiplicação por 2\n",
        "a_times_2 = a * 2\n",
        "print(a_times_2)\n",
        "\n",
        "# Subtrai 1\n",
        "a_minus_1 = a - 1\n",
        "print(a_minus_1)"
      ]
    }
  ],
  "metadata": {
    "kernelspec": {
      "display_name": "Python 3 (ipykernel)",
      "language": "python",
      "name": "python3"
    },
    "language_info": {
      "codemirror_mode": {
        "name": "ipython",
        "version": 3
      },
      "file_extension": ".py",
      "mimetype": "text/x-python",
      "name": "python",
      "nbconvert_exporter": "python",
      "pygments_lexer": "ipython3",
      "version": "3.11.4"
    },
    "colab": {
      "provenance": [],
      "include_colab_link": true
    }
  },
  "nbformat": 4,
  "nbformat_minor": 5
}